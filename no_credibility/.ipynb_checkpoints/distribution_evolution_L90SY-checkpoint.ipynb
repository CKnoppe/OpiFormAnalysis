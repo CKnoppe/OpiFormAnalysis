{
 "cells": [
  {
   "cell_type": "markdown",
   "metadata": {},
   "source": [
    "# Opinion distribution evolution\n",
    "\n",
    "Plot the evolution of the opinion distribution over time. Similar codes exist for other parameter values, but only the one without coherence features and with $\\lambda=0.9$ made it into the paper, so only this notebook will be presented here in the public repository."
   ]
  },
  {
   "cell_type": "code",
   "execution_count": 1,
   "metadata": {},
   "outputs": [],
   "source": [
    "%matplotlib notebook\n",
    "\n",
    "import numpy as np\n",
    "import os\n",
    "import matplotlib.pyplot as plt\n",
    "import seaborn as sns\n",
    "\n",
    "\n",
    "from matplotlib import rc\n",
    "rc('text', usetex=True)"
   ]
  },
  {
   "cell_type": "markdown",
   "metadata": {},
   "source": [
    "Paths"
   ]
  },
  {
   "cell_type": "code",
   "execution_count": 2,
   "metadata": {},
   "outputs": [],
   "source": [
    "parent_path = os.path.join(os.getcwd(), \"distribution_evolution\")\n",
    "\n",
    "path = os.path.join(os.getcwd(), \"distribution_evolution\\\\L90SY\")\n",
    "\n",
    "if not os.path.exists(parent_path):\n",
    "    os.mkdir(parent_path)\n",
    "if not os.path.exists(path):\n",
    "    os.mkdir(path)"
   ]
  },
  {
   "cell_type": "code",
   "execution_count": 3,
   "metadata": {},
   "outputs": [],
   "source": [
    "l = '$\\lambda$'\n",
    "th = '$\\\\theta$'"
   ]
  },
  {
   "cell_type": "code",
   "execution_count": 4,
   "metadata": {},
   "outputs": [],
   "source": [
    "# to store variances of distributions\n",
    "# dimensions are: theta, gamma, kappa\n",
    "\n",
    "var0 = np.full((9,9,9), np.nan)\n",
    "var1000 = np.full((9,9,9), np.nan)"
   ]
  },
  {
   "cell_type": "markdown",
   "metadata": {},
   "source": [
    "The code below creates a figure for all values of $\\theta, \\gamma, \\kappa$ (even though we do not consider coherence features in this version of the model). The only figure we used in the paper is the separate one in the if-statement below. It takes a while to create all the figures, so comment out the main part of the loop if you only want to create the figure we used in the paper."
   ]
  },
  {
   "cell_type": "code",
   "execution_count": null,
   "metadata": {
    "scrolled": true
   },
   "outputs": [],
   "source": [
    "%%capture\n",
    "\n",
    "# different lambda values\n",
    "lambda_vals = ['05'] + [str(i) for i in range(10, 96, 5)]\n",
    "\n",
    "sns.set_style('whitegrid')\n",
    "               \n",
    "periods = [0, 100, 1000]\n",
    "\n",
    "# loop through all treatments, which start every 300 (nAgents) lines\n",
    "for treatment, line_no in enumerate(range(0, 218700, 300)):\n",
    "    theta = round(((treatment%9) / 10) + 0.1, 1)\n",
    "    gamma = round((((treatment//9) % 9) / 10) + 0.1, 1)\n",
    "    kappa = round(((treatment//81) / 10) + 0.1, 1)\n",
    "    dists = list()\n",
    "    for period in periods:\n",
    "        opinions = list()\n",
    "        with open(f'FIG1-DATA-NEW/FULL SENTIMENTS/K0G0T1-A300T1000M90S100-n8/results_SB_{period}.txt') as f:\n",
    "            for i, line in enumerate(f):\n",
    "                if i <= line_no:\n",
    "                     continue\n",
    "                elif line_no < i <= line_no+300:\n",
    "                    opinions.append(float(line.split('\\t')[1][:-1]))         \n",
    "                else: break\n",
    "        dists.append(np.array(opinions))\n",
    "    \n",
    "    plt.figure()\n",
    "    plt.title('\\LARGE{Distribution evolution}')\n",
    "   \n",
    "    sns.kdeplot(dists[0], linestyle='-', c='grey', lw=0.9, label='initial distribution')\n",
    "    sns.kdeplot(dists[1], linestyle='--', c='grey', lw=0.9, label='after 100 steps')\n",
    "    sns.kdeplot(dists[2], linestyle=':', c='grey', lw=1, label='after 1000 steps')\n",
    "\n",
    "\n",
    "    text_str = f'''\n",
    "                   {l}=0.9\n",
    "                   {th}={theta}\n",
    "                   Sentiment ON\n",
    "                   no coherence features\n",
    "                   '''\n",
    "\n",
    "    ax = plt.gca()\n",
    "    props = dict(boxstyle='round', facecolor='white', edgecolor='lightgrey', alpha=1)\n",
    "    plt.text(0.06, 0.665, text_str, fontsize=11, transform=ax.transAxes, bbox=props)\n",
    "    ax.tick_params(axis='both', labelsize=11)\n",
    "    plt.ylabel(\"Density\", fontsize=11)\n",
    "    plt.legend(loc='upper right', fontsize=11, framealpha=1)\n",
    "\n",
    "    # plt.savefig(f'distribution_evolution/L90SY/th{int(theta*10)}g{int(gamma*10)}k{int(kappa*10)}SY.eps')\n",
    "    \n",
    "    # save variances\n",
    "    var0[int(theta*10) -1, int(gamma*10) -1, int(kappa*10) -1] = dists[0].var()\n",
    "    var1000[int(theta*10) -1, int(gamma*10) -1, int(kappa*10)-1] = dists[-1].var()\n",
    "    \n",
    "    ########################################\n",
    "    # figure with circle around fringe group\n",
    "    ########################################\n",
    "    \n",
    "    if theta == 0.9 and gamma == 0.4 and kappa == 0.1:\n",
    "        print(\"agents with opinion smaller -3: \",len(dists[2][dists[2]< -3]))\n",
    "        plt.figure()\n",
    "        plt.title('\\LARGE{Distribution evolution}')\n",
    "\n",
    "        sns.kdeplot(dists[0], linestyle='-', c='grey', lw=0.8, label='initial distribution')\n",
    "        sns.kdeplot(dists[1], linestyle='--', c='darkblue', lw=0.8, label='after 100 steps')\n",
    "\n",
    "        sns.kdeplot(dists[2], linestyle=':', c='darkgreen', lw=1.1, label='after 1000 steps')\n",
    "\n",
    "\n",
    "        text_str = f'''\n",
    "                       {l}=0.9\n",
    "                       {th}={theta}\n",
    "                       Sentiment ON\n",
    "                       no coherence features\n",
    "                       '''\n",
    "\n",
    "        ax = plt.gca()\n",
    "        ax.scatter([-3.6], [0.022], edgecolor='red', linewidths=1.5, s=500, facecolors='none')#c='white')\n",
    "        props = dict(boxstyle='round', facecolor='white', edgecolor='lightgrey', alpha=1)\n",
    "        plt.text(0.06, 0.725, text_str, fontsize=11, transform=ax.transAxes, bbox=props)\n",
    "        ax.tick_params(axis='both', labelsize=11)\n",
    "        plt.ylim(-0.1, 3.2)\n",
    "        plt.ylabel(\"Density\", fontsize=11)\n",
    "        plt.legend(loc='upper right', fontsize=11, framealpha=1)\n",
    "        plt.savefig(f'distribution_evolution/L90SY/distribution_fringe_circle.eps')\n",
    "        plt.savefig(f'distribution_evolution/L90SY/distribution_fringe_circle.png')\n",
    "               "
   ]
  },
  {
   "cell_type": "code",
   "execution_count": null,
   "metadata": {},
   "outputs": [],
   "source": [
    "plt.show()"
   ]
  },
  {
   "cell_type": "code",
   "execution_count": 6,
   "metadata": {},
   "outputs": [
    {
     "name": "stdout",
     "output_type": "stream",
     "text": [
      "average variance at gamma=0.9\n",
      "at time 0:\n",
      "nan\n",
      "\n",
      "\n",
      "at time 1000\n",
      "nan\n"
     ]
    }
   ],
   "source": [
    "print('average variance at gamma=0.9')\n",
    "print('at time 0:')\n",
    "print(var0[:,-1,:].mean())\n",
    "print('\\n')\n",
    "print('at time 1000')\n",
    "print(var1000[:,-1,:].mean())"
   ]
  },
  {
   "cell_type": "code",
   "execution_count": 7,
   "metadata": {},
   "outputs": [
    {
     "name": "stdout",
     "output_type": "stream",
     "text": [
      "average variance at gamma=0.1\n",
      "at time 0:\n",
      "nan\n",
      "\n",
      "\n",
      "at time 1000\n",
      "nan\n"
     ]
    }
   ],
   "source": [
    "print('average variance at gamma=0.1')\n",
    "print('at time 0:')\n",
    "print(var0[:,0,:].mean())\n",
    "print('\\n')\n",
    "print('at time 1000')\n",
    "print(var1000[:,0,:].mean())"
   ]
  },
  {
   "cell_type": "code",
   "execution_count": 8,
   "metadata": {},
   "outputs": [
    {
     "name": "stdout",
     "output_type": "stream",
     "text": [
      "average variance at kappa=0.9\n",
      "at time 0:\n",
      "nan\n",
      "\n",
      "\n",
      "at time 1000\n",
      "nan\n"
     ]
    }
   ],
   "source": [
    "print('average variance at kappa=0.9')\n",
    "print('at time 0:')\n",
    "print(var0[:,:,-1].mean())\n",
    "print('\\n')\n",
    "print('at time 1000')\n",
    "print(var1000[:,:,-1].mean())"
   ]
  },
  {
   "cell_type": "code",
   "execution_count": 9,
   "metadata": {},
   "outputs": [
    {
     "name": "stdout",
     "output_type": "stream",
     "text": [
      "average variance at kappa=0.1\n",
      "at time 0:\n",
      "nan\n",
      "\n",
      "\n",
      "at time 1000\n",
      "nan\n"
     ]
    }
   ],
   "source": [
    "print('average variance at kappa=0.1')\n",
    "print('at time 0:')\n",
    "print(var0[:,:,0].mean())\n",
    "print('\\n')\n",
    "print('at time 1000')\n",
    "print(var1000[:,:,0].mean())"
   ]
  },
  {
   "cell_type": "raw",
   "metadata": {},
   "source": []
  }
 ],
 "metadata": {
  "kernelspec": {
   "display_name": "Python 3 (ipykernel)",
   "language": "python",
   "name": "python3"
  },
  "language_info": {
   "codemirror_mode": {
    "name": "ipython",
    "version": 3
   },
   "file_extension": ".py",
   "mimetype": "text/x-python",
   "name": "python",
   "nbconvert_exporter": "python",
   "pygments_lexer": "ipython3",
   "version": "3.9.16"
  }
 },
 "nbformat": 4,
 "nbformat_minor": 2
}
